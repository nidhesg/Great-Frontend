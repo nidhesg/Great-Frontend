{
  "nbformat": 4,
  "nbformat_minor": 0,
  "metadata": {
    "colab": {
      "provenance": [],
      "authorship_tag": "ABX9TyP08FYpKKBsTnn9E6gfK3oi",
      "include_colab_link": true
    },
    "kernelspec": {
      "name": "python3",
      "display_name": "Python 3"
    },
    "language_info": {
      "name": "python"
    }
  },
  "cells": [
    {
      "cell_type": "markdown",
      "metadata": {
        "id": "view-in-github",
        "colab_type": "text"
      },
      "source": [
        "<a href=\"https://colab.research.google.com/github/nidhesg/Great-Frontend/blob/main/Copy_of_Model_Train_autocode.ipynb\" target=\"_parent\"><img src=\"https://colab.research.google.com/assets/colab-badge.svg\" alt=\"Open In Colab\"/></a>"
      ]
    },
    {
      "cell_type": "code",
      "execution_count": null,
      "metadata": {
        "colab": {
          "base_uri": "https://localhost:8080/"
        },
        "id": "kWTnGKz0WGx0",
        "outputId": "9243433e-8b88-4e0d-c299-f23ab5676f1e"
      },
      "outputs": [
        {
          "output_type": "stream",
          "name": "stdout",
          "text": [
            "Drive already mounted at /content/drive; to attempt to forcibly remount, call drive.mount(\"/content/drive\", force_remount=True).\n",
            "   QuestionId                                              Title  \\\n",
            "0      250001  Will the questions be migrated over from meta....   \n",
            "1      250006                       Halp! The favicon is borked!   \n",
            "2      250012              The system message theme is...jarring   \n",
            "3      250013           The [featured] tag is not a mod-only tag   \n",
            "4      250014  Why are we getting yearling badges for a site ...   \n",
            "\n",
            "                                                Tags  \\\n",
            "0                    |discussion|meta|mso-mse-split|   \n",
            "1                     |bug|status-completed|favicon|   \n",
            "2  |feature-request|status-bydesign|design|system...   \n",
            "3                        |bug|status-completed|tags|   \n",
            "4        |bug|status-bydesign|badges|yearling-badge|   \n",
            "\n",
            "                                        QuestionBody    QuestionCreationDate  \\\n",
            "0  Will we get our reputation moved over or quest... 2014-04-17 00:49:28.617   \n",
            "1  When I opened up the site-switcher, the first ... 2014-04-17 00:57:57.237   \n",
            "2  Here's what I mean. Take this vanilla screensh... 2014-04-17 01:39:07.100   \n",
            "3  featured is supposed to be mod-only, but it's ... 2014-04-17 01:40:02.360   \n",
            "4  The title says it all, why are we getting year... 2014-04-17 02:04:39.210   \n",
            "\n",
            "   QuestionScore  QuestionViewCount  AcceptedAnswerId  AnswerCount  \\\n",
            "0             22                939          250002.0            4   \n",
            "1             23                403          250023.0            2   \n",
            "2             20                409          250026.0            1   \n",
            "3             29                297          250027.0            1   \n",
            "4             29                792          250018.0            4   \n",
            "\n",
            "   QuestionCommentCount  ...  Answer4_Id  \\\n",
            "0                     6  ...    250003.0   \n",
            "1                     7  ...         NaN   \n",
            "2                     0  ...         NaN   \n",
            "3                     5  ...         NaN   \n",
            "4                     9  ...    250015.0   \n",
            "\n",
            "                                        Answer4_Body  Answer4_Score  \\\n",
            "0  Some of the SO specific ones will be migrated....            7.0   \n",
            "1                                                NaN            NaN   \n",
            "2                                                NaN            NaN   \n",
            "3                                                NaN            NaN   \n",
            "4  Because the yearling badge has been retroactiv...            8.0   \n",
            "\n",
            "     Answer4_CreationDate  Answer4_OwnerUserId Answer5_Id  Answer5_Body  \\\n",
            "0 2014-04-17 00:51:57.733            1198729.0        NaN           NaN   \n",
            "1                     NaT                  NaN        NaN           NaN   \n",
            "2                     NaT                  NaN        NaN           NaN   \n",
            "3                     NaT                  NaN        NaN           NaN   \n",
            "4 2014-04-17 02:06:07.627            2074608.0        NaN           NaN   \n",
            "\n",
            "   Answer5_Score Answer5_CreationDate  Answer5_OwnerUserId  \n",
            "0            NaN                  NaT                  NaN  \n",
            "1            NaN                  NaT                  NaN  \n",
            "2            NaN                  NaT                  NaN  \n",
            "3            NaN                  NaT                  NaN  \n",
            "4            NaN                  NaT                  NaN  \n",
            "\n",
            "[5 rows x 37 columns]\n"
          ]
        }
      ],
      "source": [
        "# 1. Mount Google Drive\n",
        "from google.colab import drive\n",
        "drive.mount('/content/drive')\n",
        "\n",
        "# 2. Define correct path\n",
        "file_path = \"/content/drive/MyDrive/stackoverflow_qa.xlsx\"\n",
        "\n",
        "# 3. Read Excel file\n",
        "import pandas as pd\n",
        "df = pd.read_excel(file_path)   # requires openpyxl\n",
        "print(df.head())\n"
      ]
    },
    {
      "cell_type": "code",
      "source": [
        "!ls /content/drive/MyDrive\n",
        "\n"
      ],
      "metadata": {
        "colab": {
          "base_uri": "https://localhost:8080/"
        },
        "id": "w4XBDjyoplrH",
        "outputId": "e99e3f64-c2e8-4b7c-e3e0-6c2b8fe2d82c"
      },
      "execution_count": null,
      "outputs": [
        {
          "output_type": "stream",
          "name": "stdout",
          "text": [
            "'1589288763179_1589288550805_1589288548680_1589288534422_Nidhesh'\\''s Resume (3).pdf'\n",
            " 1604663865766.log\n",
            " adhr-01.PDF.gdoc\n",
            "'Anyfile Notepad Files'\n",
            "'ap (1).zip'\n",
            "'ap (2).zip'\n",
            " ap.zip\n",
            "'AXIS BANK  Statement for May 2020.pdf'\n",
            "'beer consumption codes q.py'\n",
            " cil.pdf\n",
            " CoffeeBreakPythonSlicing.pdf\n",
            "'Colab Notebooks'\n",
            "'Copy of [FREE] Amazon FBA Fee Calculator.gsheet'\n",
            " demo.py\n",
            "'Employment Application Form.docx'\n",
            "'ezyzip (2).zip'\n",
            "'Getting started.pdf'\n",
            " kkk\n",
            " manage.py\n",
            "'Naukri_Nidheshresume(1).gdoc'\n",
            "'Naukri_Nidheshresume(1).pdf'\n",
            "'nidhesh-converted (1)-converted (1)-converted (2) (1).pdf'\n",
            "'nidhesh-converted (1)-converted (1)-converted (2) (2).pdf'\n",
            "'nidhesh-converted (1)-converted (1)-converted (2) (3).pdf'\n",
            "'nidhesh-converted (1)-converted (1)-converted (2) (4).pdf'\n",
            "'nidhesh-converted (1)-converted (1)-converted (2)_edited.pdf'\n",
            "'nidhesh-converted (1)-converted (1)-converted (2).pdf'\n",
            "'Nidhesh RuhelaNidhesh_InternshalaResume (1).pdf'\n",
            "'Nidhesh Ruhela-  Python Backend developer- Pune- Solytics patner- Hird.doc'\n",
            "'Nidhesh'\\''s Resume (3)(1) (1).gdoc'\n",
            "'Nidhesh'\\''s Resume (3)(1) (1).pdf'\n",
            "'Nidhesh'\\''s Resume (3)(1) (2).gdoc'\n",
            "'Nidhesh'\\''s Resume (3)(1).gdoc'\n",
            "'Nidhesh'\\''s Resume (3)(1).pdf'\n",
            "'Nidhesh'\\''s Resume (3).pdf'\n",
            "'Offer Letter - Nidhesh Ruhela (1).pdf'\n",
            "'Offer Letter - Nidhesh Ruhela.pdf'\n",
            " Screenshot_2024-05-21-23-15-21-162_com.whatsapp.jpg\n",
            " ss.zip\n",
            " stackoverflow_qa.xlsx\n",
            "'To-do list.gsheet'\n",
            " Untitled.ipynb\n"
          ]
        }
      ]
    },
    {
      "cell_type": "code",
      "source": [
        "# If in Colab, mount Drive first (skip on Kaggle if using Kaggle Datasets):\n",
        "IN_COLAB = True\n",
        "try:\n",
        "    from google.colab import drive  # noqa\n",
        "    drive.mount('/content/drive')\n",
        "except Exception:\n",
        "    IN_COLAB = False\n",
        "    pass\n",
        "\n",
        "!pip -q install \"transformers>=4.41\" \"datasets>=2.19\" \"accelerate>=0.33\" peft openpyxl sentencepiece bitsandbytes\n"
      ],
      "metadata": {
        "colab": {
          "base_uri": "https://localhost:8080/"
        },
        "id": "Zpkiyl8yqmPy",
        "outputId": "f92b1190-cd20-4116-d8c6-64e0a4f65c1d"
      },
      "execution_count": null,
      "outputs": [
        {
          "output_type": "stream",
          "name": "stdout",
          "text": [
            "Drive already mounted at /content/drive; to attempt to forcibly remount, call drive.mount(\"/content/drive\", force_remount=True).\n",
            "\u001b[2K   \u001b[90m━━━━━━━━━━━━━━━━━━━━━━━━━━━━━━━━━━━━━━━━\u001b[0m \u001b[32m61.3/61.3 MB\u001b[0m \u001b[31m14.7 MB/s\u001b[0m eta \u001b[36m0:00:00\u001b[0m\n",
            "\u001b[?25h"
          ]
        }
      ]
    },
    {
      "cell_type": "code",
      "source": [
        "import os\n",
        "\n",
        "# Path to your Excel file with Q/A\n",
        "FILE_PATH = \"/content/drive/MyDrive/stackoverflow_qa.xlsx\"  # <- change if needed\n",
        "\n",
        "# Columns in your Excel. Adjust if your sheet uses different names.\n",
        "QUESTION_COL = \"Question\"\n",
        "ANSWER_COL   = \"Answer\"\n",
        "\n",
        "# Model + training\n",
        "BASE_MODEL = \"Salesforce/codet5p-220m\"   # small & good for free GPUs\n",
        "OUTPUT_DIR = \"/content/codet5p_stackoverflow_lora\"\n",
        "MAX_SOURCE_LEN = 256\n",
        "MAX_TARGET_LEN = 256\n",
        "NUM_EPOCHS = 2\n",
        "BATCH_SIZE = 4\n",
        "LR = 2e-4\n",
        "WARMUP_STEPS = 50\n",
        "\n",
        "os.makedirs(OUTPUT_DIR, exist_ok=True)\n"
      ],
      "metadata": {
        "id": "CZfUN2s1rykw"
      },
      "execution_count": null,
      "outputs": []
    },
    {
      "cell_type": "code",
      "source": [
        "import pandas as pd\n",
        "from datasets import Dataset, DatasetDict\n",
        "import numpy as np\n",
        "\n",
        "FILE_PATH = \"/content/drive/MyDrive/stackoverflow_qa.xlsx\"  # adjust if needed\n",
        "df = pd.read_excel(FILE_PATH)\n",
        "\n",
        "# Columns present:\n",
        "# ['QuestionId','Title','Tags','QuestionBody', ..., 'Answer1_Body','Answer1_Score', ... up to 5]\n",
        "\n",
        "# 1) Build QUESTION text = Title + two newlines + QuestionBody\n",
        "def build_question(row):\n",
        "    title = str(row.get(\"Title\", \"\")).strip()\n",
        "    body  = str(row.get(\"QuestionBody\", \"\")).strip()\n",
        "    if title and body:\n",
        "        return f\"{title}\\n\\n{body}\"\n",
        "    return (title or body)  # whichever exists\n",
        "\n",
        "# 2) Pick the BEST answer body among Answer1..Answer5 by highest Score\n",
        "answer_bodies = []\n",
        "answer_scores = []\n",
        "for i in range(1, 6):\n",
        "    answer_bodies.append(df.get(f\"Answer{i}_Body\"))\n",
        "    answer_scores.append(df.get(f\"Answer{i}_Score\"))\n",
        "\n",
        "# Stack into arrays for easy argmax; replace NaNs in scores with a very low number\n",
        "score_mat = np.column_stack([s if s is not None else np.full(len(df), -1e9) for s in answer_scores])\n",
        "score_mat = np.where(np.isnan(score_mat), -1e9, score_mat)\n",
        "\n",
        "# index of best answer per row\n",
        "best_idx = score_mat.argmax(axis=1)\n",
        "\n",
        "# gather best bodies\n",
        "body_mat = np.column_stack([b if b is not None else np.array([\"\"]*len(df)) for b in answer_bodies])\n",
        "best_answer = [body_mat[r, best_idx[r]] if best_idx[r] >= 0 else \"\" for r in range(len(df))]\n",
        "\n",
        "# 3) Assemble minimal Q/A frame and clean\n",
        "qa_df = pd.DataFrame({\n",
        "    \"question\": [build_question(r) for _, r in df.iterrows()],\n",
        "    \"answer\": best_answer\n",
        "})\n",
        "\n",
        "# Remove rows with missing/empty Q or A\n",
        "qa_df[\"question\"] = qa_df[\"question\"].fillna(\"\").astype(str).str.strip()\n",
        "qa_df[\"answer\"]   = qa_df[\"answer\"].fillna(\"\").astype(str).str.strip()\n",
        "qa_df = qa_df[(qa_df[\"question\"] != \"\") & (qa_df[\"answer\"] != \"\")].reset_index(drop=True)\n",
        "\n",
        "print(\"Sample rows:\")\n",
        "print(qa_df.head(3))\n",
        "\n",
        "# 4) Split train/validation\n",
        "split = int(len(qa_df) * 0.9) if len(qa_df) > 10 else max(1, len(qa_df) - 1)\n",
        "train_df = qa_df.iloc[:split].reset_index(drop=True)\n",
        "val_df   = qa_df.iloc[split:].reset_index(drop=True)\n",
        "\n",
        "ds = DatasetDict({\n",
        "    \"train\": Dataset.from_pandas(train_df),\n",
        "    \"validation\": Dataset.from_pandas(val_df)\n",
        "})\n",
        "ds\n"
      ],
      "metadata": {
        "id": "EZvQlJC8r2bf"
      },
      "execution_count": null,
      "outputs": []
    },
    {
      "cell_type": "code",
      "source": [],
      "metadata": {
        "id": "eZwEOKIzr9fP"
      },
      "execution_count": null,
      "outputs": []
    }
  ]
}